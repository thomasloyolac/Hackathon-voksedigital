{
 "cells": [
  {
   "cell_type": "code",
   "execution_count": 1,
   "id": "7ad36b1e",
   "metadata": {},
   "outputs": [],
   "source": [
    "import pandas as pd\n",
    "import numpy as np\n",
    "import seaborn as sb\n",
    "import matplotlib.pyplot as plt"
   ]
  },
  {
   "cell_type": "code",
   "execution_count": 2,
   "id": "1e485e87",
   "metadata": {},
   "outputs": [],
   "source": [
    "df=pd.read_csv('train (1).csv')\n",
    "dft=pd.read_csv('test (1).csv')\n",
    "df1=df.copy()"
   ]
  },
  {
   "cell_type": "code",
   "execution_count": 4,
   "id": "3d8eb853",
   "metadata": {},
   "outputs": [],
   "source": [
    "missingvalues=['ID','major_occ_code','house_1yr_ago','under18','unemp_reason','woker_type']"
   ]
  },
  {
   "cell_type": "code",
   "execution_count": 5,
   "id": "3461436a",
   "metadata": {},
   "outputs": [],
   "source": [
    "df=df.drop(missingvalues,1)"
   ]
  },
  {
   "cell_type": "code",
   "execution_count": 6,
   "id": "2c343cb3",
   "metadata": {},
   "outputs": [],
   "source": [
    "dft=dft.drop(missingvalues,1)"
   ]
  },
  {
   "cell_type": "code",
   "execution_count": 7,
   "id": "b8af1d0e",
   "metadata": {},
   "outputs": [],
   "source": [
    "df['income']=df['income'].replace({'More than 50K $':0,'Less than 50K $':1})"
   ]
  },
  {
   "cell_type": "code",
   "execution_count": 8,
   "id": "d76022d1",
   "metadata": {},
   "outputs": [],
   "source": [
    "df=df.drop(['year_of_poll', 'currently_enrolled', 'labour_union',\n",
    "       'income_filled'],1)"
   ]
  },
  {
   "cell_type": "code",
   "execution_count": 9,
   "id": "3354e511",
   "metadata": {},
   "outputs": [],
   "source": [
    "dft=dft.drop(['year_of_poll', 'currently_enrolled', 'labour_union',\n",
    "       'income_filled'],1)"
   ]
  },
  {
   "cell_type": "code",
   "execution_count": 10,
   "id": "a3cb4584",
   "metadata": {},
   "outputs": [
    {
     "data": {
      "text/plain": [
       "Index(['own_self_emp', 'veteran benefits', 'race', 'father_country', 'educ',\n",
       "       'house_stat', 'major_ind_code', 'self_country', 'age', 'mother_country',\n",
       "       'house_summary', 'gender', 'hisp_origin', 'gains', 'dividends',\n",
       "       'marriage_status', 'losses', 'employer_of', 'weeks_worked',\n",
       "       'hourly_wage', 'citizenship', 'fed_liability', 'full_partime_job',\n",
       "       'income'],\n",
       "      dtype='object')"
      ]
     },
     "execution_count": 10,
     "metadata": {},
     "output_type": "execute_result"
    }
   ],
   "source": [
    "df.columns"
   ]
  },
  {
   "cell_type": "code",
   "execution_count": 12,
   "id": "841bf63f",
   "metadata": {},
   "outputs": [
    {
     "data": {
      "text/plain": [
       "Index(['own_self_emp', 'veteran benefits', 'race', 'father_country', 'educ',\n",
       "       'house_stat', 'major_ind_code', 'self_country', 'age', 'mother_country',\n",
       "       'house_summary', 'gender', 'hisp_origin', 'gains', 'dividends',\n",
       "       'marriage_status', 'losses', 'employer_of', 'weeks_worked',\n",
       "       'hourly_wage', 'citizenship', 'fed_liability', 'full_partime_job'],\n",
       "      dtype='object')"
      ]
     },
     "execution_count": 12,
     "metadata": {},
     "output_type": "execute_result"
    }
   ],
   "source": [
    "dft.columns"
   ]
  },
  {
   "cell_type": "code",
   "execution_count": 13,
   "id": "41824a20",
   "metadata": {},
   "outputs": [],
   "source": [
    "col=['race', 'father_country', 'house_stat', 'major_ind_code', 'self_country', 'mother_country',\n",
    "       'house_summary',  'hisp_origin', 'marriage_status', 'citizenship', 'fed_liability', 'full_partime_job']"
   ]
  },
  {
   "cell_type": "code",
   "execution_count": 14,
   "id": "a931f45c",
   "metadata": {},
   "outputs": [],
   "source": [
    "for i in col:\n",
    "    df[i]=df[i].map(df[i].value_counts())"
   ]
  },
  {
   "cell_type": "code",
   "execution_count": 15,
   "id": "1d512d65",
   "metadata": {},
   "outputs": [
    {
     "data": {
      "text/plain": [
       "array([88078,  1174, 10763,  3050,  1935], dtype=int64)"
      ]
     },
     "execution_count": 15,
     "metadata": {},
     "output_type": "execute_result"
    }
   ],
   "source": [
    "df['race'].unique()"
   ]
  },
  {
   "cell_type": "code",
   "execution_count": 16,
   "id": "8d1551c8",
   "metadata": {},
   "outputs": [],
   "source": [
    "for i in col:\n",
    "    dft[i]=dft[i].map(df1[i].value_counts())"
   ]
  },
  {
   "cell_type": "code",
   "execution_count": 17,
   "id": "0c7bb3e5",
   "metadata": {
    "scrolled": true
   },
   "outputs": [
    {
     "data": {
      "text/plain": [
       "array([88078, 10763,  1935,  3050,  1174], dtype=int64)"
      ]
     },
     "execution_count": 17,
     "metadata": {},
     "output_type": "execute_result"
    }
   ],
   "source": [
    "dft['race'].unique()"
   ]
  },
  {
   "cell_type": "code",
   "execution_count": 21,
   "id": "cf668975",
   "metadata": {},
   "outputs": [],
   "source": [
    "from sklearn.preprocessing import OrdinalEncoder"
   ]
  },
  {
   "cell_type": "code",
   "execution_count": 23,
   "id": "5a7452d8",
   "metadata": {},
   "outputs": [],
   "source": [
    "oe=OrdinalEncoder(categories=[[' Children',' Less than 1st grade',' 1st 2nd 3rd or 4th grade',' 5th or 6th grade',' 7th and 8th grade',' 9th grade',' 10th grade', ' 11th grade',' 12th grade no diploma',' High school graduate',' Prof school degree (MD DDS DVM LLB JD)',' Some college but no degree',' Bachelors degree(BA AB BS)',' Associates degree-academic program',' Associates degree-occup /vocational',' Masters degree(MA MS MEng MEd MSW MBA)',' Doctorate degree(PhD EdD)']])\n",
    "df['educ']=oe.fit_transform(df[['educ']])"
   ]
  },
  {
   "cell_type": "code",
   "execution_count": 24,
   "id": "8db3df07",
   "metadata": {},
   "outputs": [
    {
     "data": {
      "text/plain": [
       "array([13.,  0., 11.,  9.,  6., 10., 12.,  4.,  3.,  5.,  7., 15., 14.,\n",
       "        2.,  1.,  8., 16.])"
      ]
     },
     "execution_count": 24,
     "metadata": {},
     "output_type": "execute_result"
    }
   ],
   "source": [
    "df['educ'].unique()"
   ]
  },
  {
   "cell_type": "code",
   "execution_count": 25,
   "id": "4b18adc2",
   "metadata": {},
   "outputs": [],
   "source": [
    "dft['educ']=oe.fit_transform(dft[['educ']])"
   ]
  },
  {
   "cell_type": "code",
   "execution_count": 26,
   "id": "02711651",
   "metadata": {},
   "outputs": [
    {
     "data": {
      "text/plain": [
       "array([11., 12.,  4.,  9., 16.,  0.,  6.,  5.,  8.,  2.,  7., 15., 14.,\n",
       "       10., 13.,  3.,  1.])"
      ]
     },
     "execution_count": 26,
     "metadata": {},
     "output_type": "execute_result"
    }
   ],
   "source": [
    "dft['educ'].unique()"
   ]
  },
  {
   "cell_type": "code",
   "execution_count": 29,
   "id": "11e97f0b",
   "metadata": {},
   "outputs": [],
   "source": [
    "df['house_stat']=df['house_stat'].fillna(2)"
   ]
  },
  {
   "cell_type": "code",
   "execution_count": 30,
   "id": "e469783b",
   "metadata": {},
   "outputs": [],
   "source": [
    "dft['house_stat']=dft['house_stat'].fillna(2)"
   ]
  },
  {
   "cell_type": "code",
   "execution_count": 32,
   "id": "cd87b57d",
   "metadata": {},
   "outputs": [
    {
     "data": {
      "text/plain": [
       "array([2.8081e+04, 1.1728e+04, 1.0800e+02, 3.2240e+03, 2.1940e+04,\n",
       "       2.6380e+04, 5.4200e+02, 6.3200e+03, 5.4700e+02, 3.8800e+02,\n",
       "       3.9000e+02, 3.1600e+02, 3.4800e+02, 3.0800e+02, 9.9700e+02,\n",
       "       9.2900e+02, 6.4000e+01, 9.8000e+02, 3.8600e+02, 3.0000e+00,\n",
       "       3.5000e+02, 1.9500e+02, 1.4000e+01, 4.6000e+01, 2.3000e+01,\n",
       "       4.5000e+01, 5.0000e+00, 2.0000e+00, 1.9000e+01])"
      ]
     },
     "execution_count": 32,
     "metadata": {},
     "output_type": "execute_result"
    }
   ],
   "source": [
    "dft['house_stat'].unique()"
   ]
  },
  {
   "cell_type": "code",
   "execution_count": 33,
   "id": "556d1cde",
   "metadata": {},
   "outputs": [],
   "source": [
    "df['gender']=df['gender'].replace({'M':0,'F':1})"
   ]
  },
  {
   "cell_type": "code",
   "execution_count": 34,
   "id": "1cc57ad8",
   "metadata": {},
   "outputs": [],
   "source": [
    "dft['gender']=dft['gender'].replace({'M':0,'F':1})"
   ]
  },
  {
   "cell_type": "code",
   "execution_count": 62,
   "id": "daa8faa4",
   "metadata": {},
   "outputs": [
    {
     "data": {
      "text/plain": [
       "array(['64168.0', '21083.0', '14051.0', 'nan', '654.0', '1737.0',\n",
       "       '1185.0', '450.0', '280.0'], dtype=object)"
      ]
     },
     "execution_count": 62,
     "metadata": {},
     "output_type": "execute_result"
    }
   ],
   "source": [
    "df['full_partime_job'].unique()\n"
   ]
  },
  {
   "cell_type": "code",
   "execution_count": 36,
   "id": "4b27d18c",
   "metadata": {},
   "outputs": [
    {
     "data": {
      "text/plain": [
       "array([21083., 64168., 14051.,  1185.,   654.,    nan,  1737.,   280.,\n",
       "         450.])"
      ]
     },
     "execution_count": 36,
     "metadata": {},
     "output_type": "execute_result"
    }
   ],
   "source": [
    "dft['full_partime_job'].unique()"
   ]
  },
  {
   "cell_type": "code",
   "execution_count": 41,
   "id": "f36b95fe",
   "metadata": {},
   "outputs": [
    {
     "name": "stdout",
     "output_type": "stream",
     "text": [
      "full_partime_job\n",
      "280.0      38.0\n",
      "450.0      23.0\n",
      "654.0      43.5\n",
      "1185.0     36.0\n",
      "1737.0     40.0\n",
      "14051.0    60.0\n",
      "21083.0    40.0\n",
      "64168.0    26.0\n",
      "Name: age, dtype: float64----------"
     ]
    }
   ],
   "source": [
    "i='full_partime_job'\n",
    "j='age'\n",
    "print(df.groupby(i)[j].median(),end='-'*10)"
   ]
  },
  {
   "cell_type": "code",
   "execution_count": 73,
   "id": "224bef0b",
   "metadata": {},
   "outputs": [],
   "source": [
    "fpj=df[df['full_partime_job']=='nan'].index"
   ]
  },
  {
   "cell_type": "code",
   "execution_count": 61,
   "id": "50a1033a",
   "metadata": {},
   "outputs": [],
   "source": [
    "df['full_partime_job']=df['full_partime_job'].astype(str)"
   ]
  },
  {
   "cell_type": "code",
   "execution_count": 71,
   "id": "9723ae29",
   "metadata": {},
   "outputs": [],
   "source": [
    "dft['age']=dft['age'].fillna(dft.groupby('marriage_status')['age'].transform('median'))"
   ]
  },
  {
   "cell_type": "code",
   "execution_count": 72,
   "id": "de83d522",
   "metadata": {},
   "outputs": [
    {
     "data": {
      "text/plain": [
       "0"
      ]
     },
     "execution_count": 72,
     "metadata": {},
     "output_type": "execute_result"
    }
   ],
   "source": [
    "dft['age'].isnull().sum()"
   ]
  },
  {
   "cell_type": "code",
   "execution_count": 75,
   "id": "02bf4801",
   "metadata": {},
   "outputs": [],
   "source": [
    "for i in fpj:\n",
    "    if df.loc[i,'age']<=23:\n",
    "        df.loc[i,'full_partime_job']='450'\n",
    "    elif df.loc[i,'age']>23 and  df.loc[i,'age']<=30:\n",
    "        df.loc[i,'full_partime_job']='64168'\n",
    "    elif df.loc[i,'age']>30 and  df.loc[i,'age']<=38:\n",
    "        df.loc[i,'full_partime_job']='280'\n",
    "    elif df.loc[i,'age']>38 and df.loc[i,'age']<=40:\n",
    "        df.loc[i,'full_partime_job']='21083'\n",
    "    elif df.loc[i,'age']>40 and df.loc[i,'age']<=46:\n",
    "        df.loc[i,'full_partime_job']='654'\n",
    "    else:\n",
    "        df.loc[i,'full_partime_job']='14051'"
   ]
  },
  {
   "cell_type": "code",
   "execution_count": 76,
   "id": "ea31cf71",
   "metadata": {},
   "outputs": [
    {
     "data": {
      "text/html": [
       "<div>\n",
       "<style scoped>\n",
       "    .dataframe tbody tr th:only-of-type {\n",
       "        vertical-align: middle;\n",
       "    }\n",
       "\n",
       "    .dataframe tbody tr th {\n",
       "        vertical-align: top;\n",
       "    }\n",
       "\n",
       "    .dataframe thead th {\n",
       "        text-align: right;\n",
       "    }\n",
       "</style>\n",
       "<table border=\"1\" class=\"dataframe\">\n",
       "  <thead>\n",
       "    <tr style=\"text-align: right;\">\n",
       "      <th></th>\n",
       "      <th>own_self_emp</th>\n",
       "      <th>veteran benefits</th>\n",
       "      <th>race</th>\n",
       "      <th>father_country</th>\n",
       "      <th>educ</th>\n",
       "      <th>house_stat</th>\n",
       "      <th>major_ind_code</th>\n",
       "      <th>self_country</th>\n",
       "      <th>age</th>\n",
       "      <th>mother_country</th>\n",
       "      <th>...</th>\n",
       "      <th>dividends</th>\n",
       "      <th>marriage_status</th>\n",
       "      <th>losses</th>\n",
       "      <th>employer_of</th>\n",
       "      <th>weeks_worked</th>\n",
       "      <th>hourly_wage</th>\n",
       "      <th>citizenship</th>\n",
       "      <th>fed_liability</th>\n",
       "      <th>full_partime_job</th>\n",
       "      <th>income</th>\n",
       "    </tr>\n",
       "  </thead>\n",
       "  <tbody>\n",
       "  </tbody>\n",
       "</table>\n",
       "<p>0 rows × 24 columns</p>\n",
       "</div>"
      ],
      "text/plain": [
       "Empty DataFrame\n",
       "Columns: [own_self_emp, veteran benefits, race, father_country, educ, house_stat, major_ind_code, self_country, age, mother_country, house_summary, gender, hisp_origin, gains, dividends, marriage_status, losses, employer_of, weeks_worked, hourly_wage, citizenship, fed_liability, full_partime_job, income]\n",
       "Index: []\n",
       "\n",
       "[0 rows x 24 columns]"
      ]
     },
     "execution_count": 76,
     "metadata": {},
     "output_type": "execute_result"
    }
   ],
   "source": [
    "df[df['full_partime_job']=='nan']"
   ]
  },
  {
   "cell_type": "code",
   "execution_count": 78,
   "id": "db338c65",
   "metadata": {},
   "outputs": [],
   "source": [
    "df['full_partime_job']=df['full_partime_job'].astype(float)"
   ]
  },
  {
   "cell_type": "code",
   "execution_count": 79,
   "id": "2756e3be",
   "metadata": {},
   "outputs": [
    {
     "data": {
      "text/plain": [
       "array([64168., 21083., 14051.,   450.,   654.,  1737.,  1185.,   280.])"
      ]
     },
     "execution_count": 79,
     "metadata": {},
     "output_type": "execute_result"
    }
   ],
   "source": [
    "df['full_partime_job'].unique()"
   ]
  },
  {
   "cell_type": "code",
   "execution_count": 81,
   "id": "5e75308a",
   "metadata": {},
   "outputs": [],
   "source": [
    "dft['full_partime_job']=dft['full_partime_job'].astype(str)"
   ]
  },
  {
   "cell_type": "code",
   "execution_count": 84,
   "id": "eb3160f8",
   "metadata": {},
   "outputs": [],
   "source": [
    "fpjt=dft[dft['full_partime_job']=='nan'].index"
   ]
  },
  {
   "cell_type": "code",
   "execution_count": 85,
   "id": "259c6aa8",
   "metadata": {},
   "outputs": [],
   "source": [
    "for i in fpjt:\n",
    "    if dft.loc[i,'age']<=23:\n",
    "        dft.loc[i,'full_partime_job']='450'\n",
    "    elif dft.loc[i,'age']>23 and  dft.loc[i,'age']<=30:\n",
    "        dft.loc[i,'full_partime_job']='64168'\n",
    "    elif dft.loc[i,'age']>30 and  dft.loc[i,'age']<=38:\n",
    "        dft.loc[i,'full_partime_job']='280'\n",
    "    elif dft.loc[i,'age']>38 and dft.loc[i,'age']<=40:\n",
    "        dft.loc[i,'full_partime_job']='21083'\n",
    "    elif dft.loc[i,'age']>40 and dft.loc[i,'age']<=46:\n",
    "        dft.loc[i,'full_partime_job']='654'\n",
    "    else:\n",
    "        dft.loc[i,'full_partime_job']='14051'"
   ]
  },
  {
   "cell_type": "code",
   "execution_count": 86,
   "id": "5fc948f8",
   "metadata": {},
   "outputs": [],
   "source": [
    "dft['full_partime_job']=dft['full_partime_job'].astype(float)"
   ]
  },
  {
   "cell_type": "code",
   "execution_count": 87,
   "id": "92d6f723",
   "metadata": {},
   "outputs": [
    {
     "data": {
      "text/plain": [
       "array([21083., 64168., 14051.,  1185.,   654.,  1737.,   450.,   280.])"
      ]
     },
     "execution_count": 87,
     "metadata": {},
     "output_type": "execute_result"
    }
   ],
   "source": [
    "dft['full_partime_job'].unique()"
   ]
  },
  {
   "cell_type": "code",
   "execution_count": 89,
   "id": "ba62db83",
   "metadata": {},
   "outputs": [],
   "source": [
    "x=df.drop('income',1)\n",
    "y=df['income']"
   ]
  },
  {
   "cell_type": "code",
   "execution_count": 90,
   "id": "0c4e8e96",
   "metadata": {},
   "outputs": [],
   "source": [
    "xt=dft"
   ]
  },
  {
   "cell_type": "code",
   "execution_count": 91,
   "id": "1085e4b6",
   "metadata": {},
   "outputs": [],
   "source": [
    "from sklearn.preprocessing import MinMaxScaler\n",
    "scaler=MinMaxScaler()"
   ]
  },
  {
   "cell_type": "code",
   "execution_count": 92,
   "id": "c3ae196f",
   "metadata": {},
   "outputs": [
    {
     "data": {
      "text/html": [
       "<div>\n",
       "<style scoped>\n",
       "    .dataframe tbody tr th:only-of-type {\n",
       "        vertical-align: middle;\n",
       "    }\n",
       "\n",
       "    .dataframe tbody tr th {\n",
       "        vertical-align: top;\n",
       "    }\n",
       "\n",
       "    .dataframe thead th {\n",
       "        text-align: right;\n",
       "    }\n",
       "</style>\n",
       "<table border=\"1\" class=\"dataframe\">\n",
       "  <thead>\n",
       "    <tr style=\"text-align: right;\">\n",
       "      <th></th>\n",
       "      <th>own_self_emp</th>\n",
       "      <th>veteran benefits</th>\n",
       "      <th>race</th>\n",
       "      <th>father_country</th>\n",
       "      <th>educ</th>\n",
       "      <th>house_stat</th>\n",
       "      <th>major_ind_code</th>\n",
       "      <th>self_country</th>\n",
       "      <th>age</th>\n",
       "      <th>mother_country</th>\n",
       "      <th>...</th>\n",
       "      <th>gains</th>\n",
       "      <th>dividends</th>\n",
       "      <th>marriage_status</th>\n",
       "      <th>losses</th>\n",
       "      <th>employer_of</th>\n",
       "      <th>weeks_worked</th>\n",
       "      <th>hourly_wage</th>\n",
       "      <th>citizenship</th>\n",
       "      <th>fed_liability</th>\n",
       "      <th>full_partime_job</th>\n",
       "    </tr>\n",
       "  </thead>\n",
       "  <tbody>\n",
       "    <tr>\n",
       "      <th>0</th>\n",
       "      <td>0.0</td>\n",
       "      <td>1.0</td>\n",
       "      <td>1.0</td>\n",
       "      <td>1.000000</td>\n",
       "      <td>0.8125</td>\n",
       "      <td>1.000000</td>\n",
       "      <td>0.055455</td>\n",
       "      <td>1.0</td>\n",
       "      <td>0.446809</td>\n",
       "      <td>1.0</td>\n",
       "      <td>...</td>\n",
       "      <td>0.0</td>\n",
       "      <td>0.0</td>\n",
       "      <td>0.971415</td>\n",
       "      <td>0.0</td>\n",
       "      <td>0.166667</td>\n",
       "      <td>1.0</td>\n",
       "      <td>0.0</td>\n",
       "      <td>1.0</td>\n",
       "      <td>0.886072</td>\n",
       "      <td>1.0</td>\n",
       "    </tr>\n",
       "    <tr>\n",
       "      <th>1</th>\n",
       "      <td>0.0</td>\n",
       "      <td>0.0</td>\n",
       "      <td>1.0</td>\n",
       "      <td>0.002365</td>\n",
       "      <td>0.0000</td>\n",
       "      <td>0.939421</td>\n",
       "      <td>1.000000</td>\n",
       "      <td>1.0</td>\n",
       "      <td>0.106383</td>\n",
       "      <td>1.0</td>\n",
       "      <td>...</td>\n",
       "      <td>0.0</td>\n",
       "      <td>0.0</td>\n",
       "      <td>1.000000</td>\n",
       "      <td>0.0</td>\n",
       "      <td>0.000000</td>\n",
       "      <td>0.0</td>\n",
       "      <td>0.0</td>\n",
       "      <td>1.0</td>\n",
       "      <td>1.000000</td>\n",
       "      <td>1.0</td>\n",
       "    </tr>\n",
       "    <tr>\n",
       "      <th>2</th>\n",
       "      <td>0.0</td>\n",
       "      <td>1.0</td>\n",
       "      <td>1.0</td>\n",
       "      <td>1.000000</td>\n",
       "      <td>0.6875</td>\n",
       "      <td>0.114748</td>\n",
       "      <td>0.090206</td>\n",
       "      <td>1.0</td>\n",
       "      <td>0.489362</td>\n",
       "      <td>1.0</td>\n",
       "      <td>...</td>\n",
       "      <td>0.0</td>\n",
       "      <td>0.0</td>\n",
       "      <td>0.141019</td>\n",
       "      <td>0.0</td>\n",
       "      <td>1.000000</td>\n",
       "      <td>1.0</td>\n",
       "      <td>0.0</td>\n",
       "      <td>1.0</td>\n",
       "      <td>0.470511</td>\n",
       "      <td>1.0</td>\n",
       "    </tr>\n",
       "    <tr>\n",
       "      <th>3</th>\n",
       "      <td>0.0</td>\n",
       "      <td>1.0</td>\n",
       "      <td>0.0</td>\n",
       "      <td>1.000000</td>\n",
       "      <td>0.5625</td>\n",
       "      <td>1.000000</td>\n",
       "      <td>0.034638</td>\n",
       "      <td>1.0</td>\n",
       "      <td>0.372340</td>\n",
       "      <td>1.0</td>\n",
       "      <td>...</td>\n",
       "      <td>0.0</td>\n",
       "      <td>0.0</td>\n",
       "      <td>0.971415</td>\n",
       "      <td>0.0</td>\n",
       "      <td>0.333333</td>\n",
       "      <td>1.0</td>\n",
       "      <td>0.0</td>\n",
       "      <td>1.0</td>\n",
       "      <td>0.886072</td>\n",
       "      <td>1.0</td>\n",
       "    </tr>\n",
       "    <tr>\n",
       "      <th>4</th>\n",
       "      <td>0.0</td>\n",
       "      <td>1.0</td>\n",
       "      <td>1.0</td>\n",
       "      <td>1.000000</td>\n",
       "      <td>0.5625</td>\n",
       "      <td>1.000000</td>\n",
       "      <td>0.034638</td>\n",
       "      <td>1.0</td>\n",
       "      <td>0.648936</td>\n",
       "      <td>1.0</td>\n",
       "      <td>...</td>\n",
       "      <td>0.0</td>\n",
       "      <td>0.0</td>\n",
       "      <td>0.141019</td>\n",
       "      <td>0.0</td>\n",
       "      <td>0.500000</td>\n",
       "      <td>1.0</td>\n",
       "      <td>0.0</td>\n",
       "      <td>1.0</td>\n",
       "      <td>0.470511</td>\n",
       "      <td>1.0</td>\n",
       "    </tr>\n",
       "  </tbody>\n",
       "</table>\n",
       "<p>5 rows × 23 columns</p>\n",
       "</div>"
      ],
      "text/plain": [
       "   own_self_emp  veteran benefits  race  father_country    educ  house_stat  \\\n",
       "0           0.0               1.0   1.0        1.000000  0.8125    1.000000   \n",
       "1           0.0               0.0   1.0        0.002365  0.0000    0.939421   \n",
       "2           0.0               1.0   1.0        1.000000  0.6875    0.114748   \n",
       "3           0.0               1.0   0.0        1.000000  0.5625    1.000000   \n",
       "4           0.0               1.0   1.0        1.000000  0.5625    1.000000   \n",
       "\n",
       "   major_ind_code  self_country       age  mother_country  ...  gains  \\\n",
       "0        0.055455           1.0  0.446809             1.0  ...    0.0   \n",
       "1        1.000000           1.0  0.106383             1.0  ...    0.0   \n",
       "2        0.090206           1.0  0.489362             1.0  ...    0.0   \n",
       "3        0.034638           1.0  0.372340             1.0  ...    0.0   \n",
       "4        0.034638           1.0  0.648936             1.0  ...    0.0   \n",
       "\n",
       "   dividends  marriage_status  losses  employer_of  weeks_worked  hourly_wage  \\\n",
       "0        0.0         0.971415     0.0     0.166667           1.0          0.0   \n",
       "1        0.0         1.000000     0.0     0.000000           0.0          0.0   \n",
       "2        0.0         0.141019     0.0     1.000000           1.0          0.0   \n",
       "3        0.0         0.971415     0.0     0.333333           1.0          0.0   \n",
       "4        0.0         0.141019     0.0     0.500000           1.0          0.0   \n",
       "\n",
       "   citizenship  fed_liability  full_partime_job  \n",
       "0          1.0       0.886072               1.0  \n",
       "1          1.0       1.000000               1.0  \n",
       "2          1.0       0.470511               1.0  \n",
       "3          1.0       0.886072               1.0  \n",
       "4          1.0       0.470511               1.0  \n",
       "\n",
       "[5 rows x 23 columns]"
      ]
     },
     "execution_count": 92,
     "metadata": {},
     "output_type": "execute_result"
    }
   ],
   "source": [
    "scaled=scaler.fit_transform(x)\n",
    "scaled_df=pd.DataFrame(scaled,columns=x.columns)\n",
    "scaled_df.head()"
   ]
  },
  {
   "cell_type": "code",
   "execution_count": 93,
   "id": "e699666c",
   "metadata": {},
   "outputs": [
    {
     "data": {
      "text/html": [
       "<div>\n",
       "<style scoped>\n",
       "    .dataframe tbody tr th:only-of-type {\n",
       "        vertical-align: middle;\n",
       "    }\n",
       "\n",
       "    .dataframe tbody tr th {\n",
       "        vertical-align: top;\n",
       "    }\n",
       "\n",
       "    .dataframe thead th {\n",
       "        text-align: right;\n",
       "    }\n",
       "</style>\n",
       "<table border=\"1\" class=\"dataframe\">\n",
       "  <thead>\n",
       "    <tr style=\"text-align: right;\">\n",
       "      <th></th>\n",
       "      <th>own_self_emp</th>\n",
       "      <th>veteran benefits</th>\n",
       "      <th>race</th>\n",
       "      <th>father_country</th>\n",
       "      <th>educ</th>\n",
       "      <th>house_stat</th>\n",
       "      <th>major_ind_code</th>\n",
       "      <th>self_country</th>\n",
       "      <th>age</th>\n",
       "      <th>mother_country</th>\n",
       "      <th>...</th>\n",
       "      <th>gains</th>\n",
       "      <th>dividends</th>\n",
       "      <th>marriage_status</th>\n",
       "      <th>losses</th>\n",
       "      <th>employer_of</th>\n",
       "      <th>weeks_worked</th>\n",
       "      <th>hourly_wage</th>\n",
       "      <th>citizenship</th>\n",
       "      <th>fed_liability</th>\n",
       "      <th>full_partime_job</th>\n",
       "    </tr>\n",
       "  </thead>\n",
       "  <tbody>\n",
       "    <tr>\n",
       "      <th>0</th>\n",
       "      <td>0.0</td>\n",
       "      <td>1.0</td>\n",
       "      <td>1.0</td>\n",
       "      <td>1.000000</td>\n",
       "      <td>0.6875</td>\n",
       "      <td>1.000000</td>\n",
       "      <td>0.069465</td>\n",
       "      <td>1.000000</td>\n",
       "      <td>0.340426</td>\n",
       "      <td>1.000000</td>\n",
       "      <td>...</td>\n",
       "      <td>0.0</td>\n",
       "      <td>0.000</td>\n",
       "      <td>0.971415</td>\n",
       "      <td>0.0</td>\n",
       "      <td>1.000000</td>\n",
       "      <td>1.0</td>\n",
       "      <td>0.0</td>\n",
       "      <td>1.000000</td>\n",
       "      <td>0.886072</td>\n",
       "      <td>0.325617</td>\n",
       "    </tr>\n",
       "    <tr>\n",
       "      <th>1</th>\n",
       "      <td>0.0</td>\n",
       "      <td>1.0</td>\n",
       "      <td>1.0</td>\n",
       "      <td>1.000000</td>\n",
       "      <td>0.7500</td>\n",
       "      <td>0.417607</td>\n",
       "      <td>0.046442</td>\n",
       "      <td>1.000000</td>\n",
       "      <td>0.542553</td>\n",
       "      <td>1.000000</td>\n",
       "      <td>...</td>\n",
       "      <td>0.0</td>\n",
       "      <td>0.001</td>\n",
       "      <td>1.000000</td>\n",
       "      <td>0.0</td>\n",
       "      <td>1.000000</td>\n",
       "      <td>1.0</td>\n",
       "      <td>0.0</td>\n",
       "      <td>1.000000</td>\n",
       "      <td>0.470511</td>\n",
       "      <td>1.000000</td>\n",
       "    </tr>\n",
       "    <tr>\n",
       "      <th>2</th>\n",
       "      <td>0.0</td>\n",
       "      <td>1.0</td>\n",
       "      <td>1.0</td>\n",
       "      <td>1.000000</td>\n",
       "      <td>0.2500</td>\n",
       "      <td>0.003775</td>\n",
       "      <td>1.000000</td>\n",
       "      <td>1.000000</td>\n",
       "      <td>0.744681</td>\n",
       "      <td>1.000000</td>\n",
       "      <td>...</td>\n",
       "      <td>0.0</td>\n",
       "      <td>0.000</td>\n",
       "      <td>0.114095</td>\n",
       "      <td>0.0</td>\n",
       "      <td>0.000000</td>\n",
       "      <td>0.0</td>\n",
       "      <td>0.0</td>\n",
       "      <td>1.000000</td>\n",
       "      <td>1.000000</td>\n",
       "      <td>1.000000</td>\n",
       "    </tr>\n",
       "    <tr>\n",
       "      <th>3</th>\n",
       "      <td>1.0</td>\n",
       "      <td>1.0</td>\n",
       "      <td>1.0</td>\n",
       "      <td>1.000000</td>\n",
       "      <td>0.5625</td>\n",
       "      <td>0.114748</td>\n",
       "      <td>0.069465</td>\n",
       "      <td>1.000000</td>\n",
       "      <td>0.265957</td>\n",
       "      <td>1.000000</td>\n",
       "      <td>...</td>\n",
       "      <td>0.0</td>\n",
       "      <td>0.000</td>\n",
       "      <td>1.000000</td>\n",
       "      <td>0.0</td>\n",
       "      <td>0.333333</td>\n",
       "      <td>1.0</td>\n",
       "      <td>0.0</td>\n",
       "      <td>1.000000</td>\n",
       "      <td>0.470511</td>\n",
       "      <td>1.000000</td>\n",
       "    </tr>\n",
       "    <tr>\n",
       "      <th>4</th>\n",
       "      <td>0.0</td>\n",
       "      <td>1.0</td>\n",
       "      <td>1.0</td>\n",
       "      <td>0.001219</td>\n",
       "      <td>1.0000</td>\n",
       "      <td>1.000000</td>\n",
       "      <td>0.045160</td>\n",
       "      <td>0.000699</td>\n",
       "      <td>0.691489</td>\n",
       "      <td>0.000925</td>\n",
       "      <td>...</td>\n",
       "      <td>0.0</td>\n",
       "      <td>0.000</td>\n",
       "      <td>0.114095</td>\n",
       "      <td>0.0</td>\n",
       "      <td>1.000000</td>\n",
       "      <td>1.0</td>\n",
       "      <td>0.0</td>\n",
       "      <td>0.024557</td>\n",
       "      <td>0.470511</td>\n",
       "      <td>1.000000</td>\n",
       "    </tr>\n",
       "  </tbody>\n",
       "</table>\n",
       "<p>5 rows × 23 columns</p>\n",
       "</div>"
      ],
      "text/plain": [
       "   own_self_emp  veteran benefits  race  father_country    educ  house_stat  \\\n",
       "0           0.0               1.0   1.0        1.000000  0.6875    1.000000   \n",
       "1           0.0               1.0   1.0        1.000000  0.7500    0.417607   \n",
       "2           0.0               1.0   1.0        1.000000  0.2500    0.003775   \n",
       "3           1.0               1.0   1.0        1.000000  0.5625    0.114748   \n",
       "4           0.0               1.0   1.0        0.001219  1.0000    1.000000   \n",
       "\n",
       "   major_ind_code  self_country       age  mother_country  ...  gains  \\\n",
       "0        0.069465      1.000000  0.340426        1.000000  ...    0.0   \n",
       "1        0.046442      1.000000  0.542553        1.000000  ...    0.0   \n",
       "2        1.000000      1.000000  0.744681        1.000000  ...    0.0   \n",
       "3        0.069465      1.000000  0.265957        1.000000  ...    0.0   \n",
       "4        0.045160      0.000699  0.691489        0.000925  ...    0.0   \n",
       "\n",
       "   dividends  marriage_status  losses  employer_of  weeks_worked  hourly_wage  \\\n",
       "0      0.000         0.971415     0.0     1.000000           1.0          0.0   \n",
       "1      0.001         1.000000     0.0     1.000000           1.0          0.0   \n",
       "2      0.000         0.114095     0.0     0.000000           0.0          0.0   \n",
       "3      0.000         1.000000     0.0     0.333333           1.0          0.0   \n",
       "4      0.000         0.114095     0.0     1.000000           1.0          0.0   \n",
       "\n",
       "   citizenship  fed_liability  full_partime_job  \n",
       "0     1.000000       0.886072          0.325617  \n",
       "1     1.000000       0.470511          1.000000  \n",
       "2     1.000000       1.000000          1.000000  \n",
       "3     1.000000       0.470511          1.000000  \n",
       "4     0.024557       0.470511          1.000000  \n",
       "\n",
       "[5 rows x 23 columns]"
      ]
     },
     "execution_count": 93,
     "metadata": {},
     "output_type": "execute_result"
    }
   ],
   "source": [
    "scaledt=scaler.transform(xt)\n",
    "scaled_dft=pd.DataFrame(scaledt,columns=xt.columns)\n",
    "scaled_dft.head()"
   ]
  },
  {
   "cell_type": "code",
   "execution_count": 94,
   "id": "91f47775",
   "metadata": {},
   "outputs": [],
   "source": [
    "from sklearn.linear_model import LogisticRegression"
   ]
  },
  {
   "cell_type": "code",
   "execution_count": 96,
   "id": "691907d3",
   "metadata": {},
   "outputs": [],
   "source": [
    "from sklearn.metrics import accuracy_score,classification_report,confusion_matrix"
   ]
  },
  {
   "cell_type": "code",
   "execution_count": 97,
   "id": "b2dd969e",
   "metadata": {},
   "outputs": [
    {
     "name": "stderr",
     "output_type": "stream",
     "text": [
      "C:\\Users\\thoma\\anaconda3\\lib\\site-packages\\sklearn\\linear_model\\_logistic.py:444: ConvergenceWarning: lbfgs failed to converge (status=1):\n",
      "STOP: TOTAL NO. of ITERATIONS REACHED LIMIT.\n",
      "\n",
      "Increase the number of iterations (max_iter) or scale the data as shown in:\n",
      "    https://scikit-learn.org/stable/modules/preprocessing.html\n",
      "Please also refer to the documentation for alternative solver options:\n",
      "    https://scikit-learn.org/stable/modules/linear_model.html#logistic-regression\n",
      "  n_iter_i = _check_optimize_result(\n"
     ]
    },
    {
     "name": "stdout",
     "output_type": "stream",
     "text": [
      "0.6377333333333334\n",
      "              precision    recall  f1-score   support\n",
      "\n",
      "           0       0.08      0.67      0.15      5054\n",
      "           1       0.97      0.64      0.77     99946\n",
      "\n",
      "    accuracy                           0.64    105000\n",
      "   macro avg       0.53      0.65      0.46    105000\n",
      "weighted avg       0.93      0.64      0.74    105000\n",
      "\n"
     ]
    }
   ],
   "source": [
    "lr=LogisticRegression()\n",
    "lr.fit(scaled_df,y)\n",
    "ypred=lr.predict(scaled_df)\n",
    "print(accuracy_score(ypred,y))\n",
    "print(classification_report(ypred,y))"
   ]
  },
  {
   "cell_type": "code",
   "execution_count": 98,
   "id": "917b92e6",
   "metadata": {},
   "outputs": [
    {
     "name": "stdout",
     "output_type": "stream",
     "text": [
      "0.9102095238095238\n",
      "              precision    recall  f1-score   support\n",
      "\n",
      "           0       0.79      0.97      0.87     32252\n",
      "           1       0.99      0.88      0.93     72748\n",
      "\n",
      "    accuracy                           0.91    105000\n",
      "   macro avg       0.89      0.93      0.90    105000\n",
      "weighted avg       0.92      0.91      0.91    105000\n",
      "\n"
     ]
    }
   ],
   "source": [
    "from sklearn.ensemble import RandomForestClassifier\n",
    "rf=RandomForestClassifier()\n",
    "rf.fit(scaled_df,y)\n",
    "ypred=rf.predict(scaled_df)\n",
    "print(accuracy_score(ypred,y))\n",
    "print(classification_report(ypred,y))"
   ]
  },
  {
   "cell_type": "code",
   "execution_count": 100,
   "id": "1b58765e",
   "metadata": {},
   "outputs": [],
   "source": [
    "ypredt=rf.predict(scaled_dft)"
   ]
  },
  {
   "cell_type": "code",
   "execution_count": 101,
   "id": "524a0463",
   "metadata": {},
   "outputs": [],
   "source": [
    "ypredrf=pd.DataFrame(ypredt)\n",
    "ypredrf.to_csv('5yp.csv')"
   ]
  },
  {
   "cell_type": "code",
   "execution_count": 102,
   "id": "5384d88a",
   "metadata": {},
   "outputs": [],
   "source": [
    "from xgboost import XGBClassifier\n",
    "xg=XGBClassifier()"
   ]
  },
  {
   "cell_type": "code",
   "execution_count": 103,
   "id": "a175b8b3",
   "metadata": {},
   "outputs": [
    {
     "name": "stderr",
     "output_type": "stream",
     "text": [
      "C:\\Users\\thoma\\anaconda3\\lib\\site-packages\\xgboost\\sklearn.py:1224: UserWarning: The use of label encoder in XGBClassifier is deprecated and will be removed in a future release. To remove this warning, do the following: 1) Pass option use_label_encoder=False when constructing XGBClassifier object; and 2) Encode your labels (y) as integers starting with 0, i.e. 0, 1, 2, ..., [num_class - 1].\n",
      "  warnings.warn(label_encoder_deprecation_msg, UserWarning)\n"
     ]
    },
    {
     "name": "stdout",
     "output_type": "stream",
     "text": [
      "[12:44:18] WARNING: C:/Users/Administrator/workspace/xgboost-win64_release_1.5.1/src/learner.cc:1115: Starting in XGBoost 1.3.0, the default evaluation metric used with the objective 'binary:logistic' was changed from 'error' to 'logloss'. Explicitly set eval_metric if you'd like to restore the old behavior.\n",
      "0.6700857142857143\n",
      "              precision    recall  f1-score   support\n",
      "\n",
      "           0       0.18      0.76      0.30      9609\n",
      "           1       0.97      0.66      0.78     95391\n",
      "\n",
      "    accuracy                           0.67    105000\n",
      "   macro avg       0.58      0.71      0.54    105000\n",
      "weighted avg       0.89      0.67      0.74    105000\n",
      "\n"
     ]
    }
   ],
   "source": [
    "xg.fit(scaled_df,y)\n",
    "ypred=xg.predict(scaled_df)\n",
    "print(accuracy_score(ypred,y))\n",
    "print(classification_report(ypred,y))"
   ]
  },
  {
   "cell_type": "code",
   "execution_count": 104,
   "id": "98091b60",
   "metadata": {},
   "outputs": [],
   "source": [
    "from imblearn.over_sampling import SMOTE\n",
    "sm=SMOTE()\n",
    "xre,yre=sm.fit_resample(scaled_df,y)"
   ]
  },
  {
   "cell_type": "code",
   "execution_count": 105,
   "id": "2714452e",
   "metadata": {},
   "outputs": [],
   "source": [
    "xg1=XGBClassifier()"
   ]
  },
  {
   "cell_type": "code",
   "execution_count": 106,
   "id": "2aba9101",
   "metadata": {},
   "outputs": [
    {
     "name": "stderr",
     "output_type": "stream",
     "text": [
      "C:\\Users\\thoma\\anaconda3\\lib\\site-packages\\xgboost\\sklearn.py:1224: UserWarning: The use of label encoder in XGBClassifier is deprecated and will be removed in a future release. To remove this warning, do the following: 1) Pass option use_label_encoder=False when constructing XGBClassifier object; and 2) Encode your labels (y) as integers starting with 0, i.e. 0, 1, 2, ..., [num_class - 1].\n",
      "  warnings.warn(label_encoder_deprecation_msg, UserWarning)\n"
     ]
    },
    {
     "name": "stdout",
     "output_type": "stream",
     "text": [
      "[12:48:22] WARNING: C:/Users/Administrator/workspace/xgboost-win64_release_1.5.1/src/learner.cc:1115: Starting in XGBoost 1.3.0, the default evaluation metric used with the objective 'binary:logistic' was changed from 'error' to 'logloss'. Explicitly set eval_metric if you'd like to restore the old behavior.\n",
      "0.6842290721902194\n",
      "              precision    recall  f1-score   support\n",
      "\n",
      "           0       0.43      0.88      0.57     31470\n",
      "           1       0.94      0.62      0.75     99074\n",
      "\n",
      "    accuracy                           0.68    130544\n",
      "   macro avg       0.68      0.75      0.66    130544\n",
      "weighted avg       0.82      0.68      0.71    130544\n",
      "\n"
     ]
    }
   ],
   "source": [
    "xg1.fit(xre,yre)\n",
    "ypred=xg1.predict(xre)\n",
    "print(accuracy_score(ypred,yre))\n",
    "print(classification_report(ypred,yre))"
   ]
  },
  {
   "cell_type": "code",
   "execution_count": 107,
   "id": "f674d0dc",
   "metadata": {},
   "outputs": [],
   "source": [
    "rf1=RandomForestClassifier()"
   ]
  },
  {
   "cell_type": "code",
   "execution_count": 108,
   "id": "ff505a71",
   "metadata": {},
   "outputs": [
    {
     "name": "stdout",
     "output_type": "stream",
     "text": [
      "0.8962955018997426\n",
      "              precision    recall  f1-score   support\n",
      "\n",
      "           0       0.83      0.95      0.89     56856\n",
      "           1       0.96      0.85      0.90     73688\n",
      "\n",
      "    accuracy                           0.90    130544\n",
      "   macro avg       0.90      0.90      0.90    130544\n",
      "weighted avg       0.90      0.90      0.90    130544\n",
      "\n"
     ]
    }
   ],
   "source": [
    "rf1.fit(xre,yre)\n",
    "ypred=rf1.predict(xre)\n",
    "print(accuracy_score(ypred,yre))\n",
    "print(classification_report(ypred,yre))"
   ]
  },
  {
   "cell_type": "code",
   "execution_count": 109,
   "id": "e95c45a7",
   "metadata": {},
   "outputs": [],
   "source": [
    "ypredrf1=rf1.predict(scaled_dft)"
   ]
  },
  {
   "cell_type": "code",
   "execution_count": 110,
   "id": "bb7f9137",
   "metadata": {},
   "outputs": [],
   "source": [
    "ypredrf2=pd.DataFrame(ypredrf1)\n",
    "ypredrf2.to_csv('6yp.csv')"
   ]
  },
  {
   "cell_type": "code",
   "execution_count": 125,
   "id": "d6e77976",
   "metadata": {},
   "outputs": [
    {
     "data": {
      "text/plain": [
       "array([0.        , 0.00838921, 0.01649626, 0.03053483, 0.06267815,\n",
       "       0.01507169, 0.0705126 , 0.02372331, 0.11445078, 0.03042931,\n",
       "       0.01484843, 0.00583148, 0.02435513, 0.01413474, 0.0216393 ,\n",
       "       0.02070265, 0.00149136, 0.02493536, 0.03284157, 0.00897344,\n",
       "       0.01757927, 0.01484499, 0.01676325])"
      ]
     },
     "execution_count": 125,
     "metadata": {},
     "output_type": "execute_result"
    }
   ],
   "source": [
    "from sklearn.feature_selection import mutual_info_classif\n",
    "mutin=mutual_info_classif(xre,yre)\n",
    "mutin"
   ]
  },
  {
   "cell_type": "code",
   "execution_count": 126,
   "id": "03bd1d94",
   "metadata": {},
   "outputs": [
    {
     "data": {
      "text/plain": [
       "age                 0.114451\n",
       "major_ind_code      0.070513\n",
       "educ                0.062678\n",
       "weeks_worked        0.032842\n",
       "father_country      0.030535\n",
       "mother_country      0.030429\n",
       "employer_of         0.024935\n",
       "hisp_origin         0.024355\n",
       "self_country        0.023723\n",
       "dividends           0.021639\n",
       "marriage_status     0.020703\n",
       "citizenship         0.017579\n",
       "full_partime_job    0.016763\n",
       "race                0.016496\n",
       "house_stat          0.015072\n",
       "house_summary       0.014848\n",
       "fed_liability       0.014845\n",
       "gains               0.014135\n",
       "hourly_wage         0.008973\n",
       "veteran benefits    0.008389\n",
       "gender              0.005831\n",
       "losses              0.001491\n",
       "own_self_emp        0.000000\n",
       "dtype: float64"
      ]
     },
     "execution_count": 126,
     "metadata": {},
     "output_type": "execute_result"
    }
   ],
   "source": [
    "mutin=pd.Series(mutin)\n",
    "mutin.index=scaled_df.columns\n",
    "mutin.sort_values(ascending=False)"
   ]
  },
  {
   "cell_type": "code",
   "execution_count": 127,
   "id": "43b956af",
   "metadata": {},
   "outputs": [
    {
     "data": {
      "text/plain": [
       "<AxesSubplot:>"
      ]
     },
     "execution_count": 127,
     "metadata": {},
     "output_type": "execute_result"
    },
    {
     "data": {
      "image/png": "[encoded data removed]",
      "text/plain": [
       "<Figure size 1440x576 with 1 Axes>"
      ]
     },
     "metadata": {
      "needs_background": "light"
     },
     "output_type": "display_data"
    }
   ],
   "source": [
    "mutin.sort_values(ascending=False).plot.bar(figsize=(20,8))"
   ]
  },
  {
   "cell_type": "code",
   "execution_count": 114,
   "id": "930f14d7",
   "metadata": {},
   "outputs": [],
   "source": [
    "from sklearn.feature_selection import SelectKBest"
   ]
  },
  {
   "cell_type": "code",
   "execution_count": 129,
   "id": "ff5663ec",
   "metadata": {},
   "outputs": [
    {
     "data": {
      "text/plain": [
       "Index(['race', 'father_country', 'educ', 'house_stat', 'major_ind_code',\n",
       "       'self_country', 'age', 'mother_country', 'house_summary', 'hisp_origin',\n",
       "       'gains', 'dividends', 'marriage_status', 'employer_of', 'weeks_worked',\n",
       "       'citizenship', 'fed_liability', 'full_partime_job'],\n",
       "      dtype='object')"
      ]
     },
     "execution_count": 129,
     "metadata": {},
     "output_type": "execute_result"
    }
   ],
   "source": [
    "besfe=SelectKBest(mutual_info_classif,k=18)\n",
    "besfe.fit(xre,yre)\n",
    "scaled_df.columns[besfe.get_support()]"
   ]
  },
  {
   "cell_type": "code",
   "execution_count": 141,
   "id": "7ac3a82b",
   "metadata": {},
   "outputs": [],
   "source": [
    "xbefe=scaled_df[['race', 'father_country', 'educ', 'house_stat', 'major_ind_code',\n",
    "       'self_country', 'age', 'mother_country', 'house_summary', 'hisp_origin',\n",
    "       'gains', 'dividends', 'marriage_status', 'employer_of', 'weeks_worked',\n",
    "       'citizenship', 'fed_liability', 'full_partime_job']]"
   ]
  },
  {
   "cell_type": "code",
   "execution_count": 131,
   "id": "dda8c41f",
   "metadata": {},
   "outputs": [],
   "source": [
    "xtbefe=scaled_dft[['race', 'father_country', 'educ', 'house_stat', 'major_ind_code',\n",
    "       'self_country', 'age', 'mother_country', 'house_summary', 'hisp_origin',\n",
    "       'gains', 'dividends', 'marriage_status', 'employer_of', 'weeks_worked',\n",
    "       'citizenship', 'fed_liability', 'full_partime_job']]"
   ]
  },
  {
   "cell_type": "code",
   "execution_count": 132,
   "id": "dbdb7d01",
   "metadata": {},
   "outputs": [
    {
     "name": "stdout",
     "output_type": "stream",
     "text": [
      "0.88636015443069\n",
      "              precision    recall  f1-score   support\n",
      "\n",
      "           0       0.81      0.95      0.88     55469\n",
      "           1       0.96      0.84      0.89     75075\n",
      "\n",
      "    accuracy                           0.89    130544\n",
      "   macro avg       0.89      0.90      0.89    130544\n",
      "weighted avg       0.90      0.89      0.89    130544\n",
      "\n"
     ]
    }
   ],
   "source": [
    "rf4=RandomForestClassifier()\n",
    "rf4.fit(xrebefe,yre)\n",
    "ypred=rf4.predict(xrebefe)\n",
    "print(accuracy_score(ypred,yre))\n",
    "print(classification_report(ypred,yre))"
   ]
  },
  {
   "cell_type": "code",
   "execution_count": 133,
   "id": "837fc42b",
   "metadata": {},
   "outputs": [],
   "source": [
    "ypredxre=rf4.predict(xtbefe)"
   ]
  },
  {
   "cell_type": "code",
   "execution_count": 134,
   "id": "eb93b4d1",
   "metadata": {},
   "outputs": [],
   "source": [
    "yyy=pd.DataFrame(ypredxre)\n",
    "yyy.to_csv('6yp.csv')"
   ]
  },
  {
   "cell_type": "code",
   "execution_count": 137,
   "id": "5d664b04",
   "metadata": {},
   "outputs": [],
   "source": [
    "from sklearn.ensemble import GradientBoostingClassifier\n",
    "xgg1=GradientBoostingClassifier()"
   ]
  },
  {
   "cell_type": "code",
   "execution_count": 138,
   "id": "5d4f1f19",
   "metadata": {},
   "outputs": [
    {
     "name": "stdout",
     "output_type": "stream",
     "text": [
      "0.628722882706214\n",
      "              precision    recall  f1-score   support\n",
      "\n",
      "           0       0.38      0.76      0.51     32864\n",
      "           1       0.88      0.59      0.70     97680\n",
      "\n",
      "    accuracy                           0.63    130544\n",
      "   macro avg       0.63      0.67      0.60    130544\n",
      "weighted avg       0.75      0.63      0.65    130544\n",
      "\n"
     ]
    }
   ],
   "source": [
    "xgg1.fit(xrebefe,yre)\n",
    "ypred=xgg1.predict(xrebefe)\n",
    "print(accuracy_score(ypred,yre))\n",
    "print(classification_report(ypred,yre))"
   ]
  },
  {
   "cell_type": "code",
   "execution_count": 139,
   "id": "5f95c160",
   "metadata": {},
   "outputs": [],
   "source": [
    "from sklearn.linear_model import LogisticRegression\n",
    "lr=LogisticRegression()"
   ]
  },
  {
   "cell_type": "code",
   "execution_count": 140,
   "id": "374915ee",
   "metadata": {},
   "outputs": [
    {
     "name": "stderr",
     "output_type": "stream",
     "text": [
      "C:\\Users\\thoma\\anaconda3\\lib\\site-packages\\sklearn\\linear_model\\_logistic.py:444: ConvergenceWarning: lbfgs failed to converge (status=1):\n",
      "STOP: TOTAL NO. of ITERATIONS REACHED LIMIT.\n",
      "\n",
      "Increase the number of iterations (max_iter) or scale the data as shown in:\n",
      "    https://scikit-learn.org/stable/modules/preprocessing.html\n",
      "Please also refer to the documentation for alternative solver options:\n",
      "    https://scikit-learn.org/stable/modules/linear_model.html#logistic-regression\n",
      "  n_iter_i = _check_optimize_result(\n"
     ]
    },
    {
     "name": "stdout",
     "output_type": "stream",
     "text": [
      "0.5460610981737958\n",
      "              precision    recall  f1-score   support\n",
      "\n",
      "           0       0.48      0.55      0.51     56221\n",
      "           1       0.62      0.54      0.58     74323\n",
      "\n",
      "    accuracy                           0.55    130544\n",
      "   macro avg       0.55      0.55      0.54    130544\n",
      "weighted avg       0.56      0.55      0.55    130544\n",
      "\n"
     ]
    }
   ],
   "source": [
    "lr.fit(xrebefe,yre)\n",
    "ypred=lr.predict(xrebefe)\n",
    "print(accuracy_score(ypred,yre))\n",
    "print(classification_report(ypred,yre))"
   ]
  },
  {
   "cell_type": "code",
   "execution_count": 142,
   "id": "19eac3fe",
   "metadata": {},
   "outputs": [],
   "source": [
    "lr=LogisticRegression()"
   ]
  },
  {
   "cell_type": "code",
   "execution_count": 144,
   "id": "df8cce4e",
   "metadata": {},
   "outputs": [
    {
     "name": "stderr",
     "output_type": "stream",
     "text": [
      "C:\\Users\\thoma\\anaconda3\\lib\\site-packages\\sklearn\\linear_model\\_logistic.py:444: ConvergenceWarning: lbfgs failed to converge (status=1):\n",
      "STOP: TOTAL NO. of ITERATIONS REACHED LIMIT.\n",
      "\n",
      "Increase the number of iterations (max_iter) or scale the data as shown in:\n",
      "    https://scikit-learn.org/stable/modules/preprocessing.html\n",
      "Please also refer to the documentation for alternative solver options:\n",
      "    https://scikit-learn.org/stable/modules/linear_model.html#logistic-regression\n",
      "  n_iter_i = _check_optimize_result(\n"
     ]
    },
    {
     "name": "stdout",
     "output_type": "stream",
     "text": [
      "0.6329428571428571\n",
      "              precision    recall  f1-score   support\n",
      "\n",
      "           0       0.05      0.72      0.09      2737\n",
      "           1       0.99      0.63      0.77    102263\n",
      "\n",
      "    accuracy                           0.63    105000\n",
      "   macro avg       0.52      0.67      0.43    105000\n",
      "weighted avg       0.96      0.63      0.75    105000\n",
      "\n"
     ]
    }
   ],
   "source": [
    "lr.fit(xbefe,y)\n",
    "ypred=lr.predict(xbefe)\n",
    "print(accuracy_score(ypred,y))\n",
    "print(classification_report(ypred,y))"
   ]
  },
  {
   "cell_type": "code",
   "execution_count": 145,
   "id": "1cf0769b",
   "metadata": {},
   "outputs": [],
   "source": [
    "rf=RandomForestClassifier()"
   ]
  },
  {
   "cell_type": "code",
   "execution_count": 146,
   "id": "2ba83a1a",
   "metadata": {},
   "outputs": [
    {
     "name": "stdout",
     "output_type": "stream",
     "text": [
      "0.8990095238095238\n",
      "              precision    recall  f1-score   support\n",
      "\n",
      "           0       0.76      0.96      0.85     31624\n",
      "           1       0.98      0.87      0.92     73376\n",
      "\n",
      "    accuracy                           0.90    105000\n",
      "   macro avg       0.87      0.92      0.89    105000\n",
      "weighted avg       0.92      0.90      0.90    105000\n",
      "\n"
     ]
    }
   ],
   "source": [
    "rf.fit(xbefe,y)\n",
    "ypred=rf.predict(xbefe)\n",
    "print(accuracy_score(ypred,y))\n",
    "print(classification_report(ypred,y))"
   ]
  },
  {
   "cell_type": "code",
   "execution_count": 147,
   "id": "6f302f75",
   "metadata": {},
   "outputs": [],
   "source": [
    "from sklearn.model_selection import GridSearchCV\n",
    "from sklearn.tree import DecisionTreeClassifier"
   ]
  },
  {
   "cell_type": "code",
   "execution_count": 148,
   "id": "4ad4669f",
   "metadata": {},
   "outputs": [],
   "source": [
    "from sklearn.pipeline import Pipeline"
   ]
  },
  {
   "cell_type": "code",
   "execution_count": 149,
   "id": "17ce2e39",
   "metadata": {},
   "outputs": [
    {
     "name": "stderr",
     "output_type": "stream",
     "text": [
      "C:\\Users\\thoma\\anaconda3\\lib\\site-packages\\sklearn\\model_selection\\_validation.py:378: FitFailedWarning: \n",
      "50 fits failed out of a total of 1920.\n",
      "The score on these train-test partitions for these parameters will be set to nan.\n",
      "If these failures are not expected, you can try to debug them by setting error_score='raise'.\n",
      "\n",
      "Below are more details about the failures:\n",
      "--------------------------------------------------------------------------------\n",
      "50 fits failed with the following error:\n",
      "Traceback (most recent call last):\n",
      "  File \"C:\\Users\\thoma\\anaconda3\\lib\\site-packages\\sklearn\\model_selection\\_validation.py\", line 686, in _fit_and_score\n",
      "    estimator.fit(X_train, y_train, **fit_params)\n",
      "  File \"C:\\Users\\thoma\\anaconda3\\lib\\site-packages\\sklearn\\pipeline.py\", line 382, in fit\n",
      "    self._final_estimator.fit(Xt, y, **fit_params_last_step)\n",
      "  File \"C:\\Users\\thoma\\anaconda3\\lib\\site-packages\\sklearn\\linear_model\\_logistic.py\", line 1091, in fit\n",
      "    solver = _check_solver(self.solver, self.penalty, self.dual)\n",
      "  File \"C:\\Users\\thoma\\anaconda3\\lib\\site-packages\\sklearn\\linear_model\\_logistic.py\", line 61, in _check_solver\n",
      "    raise ValueError(\n",
      "ValueError: Solver lbfgs supports only 'l2' or 'none' penalties, got l1 penalty.\n",
      "\n",
      "  warnings.warn(some_fits_failed_message, FitFailedWarning)\n",
      "C:\\Users\\thoma\\anaconda3\\lib\\site-packages\\sklearn\\model_selection\\_search.py:953: UserWarning: One or more of the test scores are non-finite: [0.63220952        nan 0.63226667        nan 0.63218095        nan\n",
      " 0.63229524        nan 0.63215238        nan 0.63219048        nan\n",
      " 0.63220952        nan 0.63224762        nan 0.63213333        nan\n",
      " 0.63199048        nan 0.63217143 0.63217143 0.63217143 0.6321619\n",
      " 0.63229524 0.63230476 0.63231429 0.63230476 0.63217143 0.63217143\n",
      " 0.6322     0.63221905 0.63220952 0.63221905 0.6322     0.63221905\n",
      " 0.63222857 0.63222857 0.6322381  0.63221905 0.63222857 0.63222857\n",
      " 0.63220952 0.63220952 0.63221905 0.63221905 0.63220952 0.63220952\n",
      " 0.63221905 0.63221905 0.63221905 0.63218095 0.63221905 0.63221905\n",
      " 0.63220952 0.63218095 0.63221905 0.63221905 0.63220952 0.63218095\n",
      " 0.62458095 0.62688571 0.62799048 0.62781905 0.62838095 0.62790476\n",
      " 0.6262381  0.62740952 0.62778095 0.62741905 0.62804762 0.62766667\n",
      " 0.6244     0.62735238 0.62584762 0.62841905 0.62729524 0.62835238\n",
      " 0.63286667 0.63405714 0.63393333 0.6328381  0.63367619 0.63422857\n",
      " 0.63332381 0.63387619 0.63401905 0.63414286 0.63407619 0.63390476\n",
      " 0.63521905 0.63382857 0.63377143 0.63144762 0.63377143 0.63408571\n",
      " 0.6364381  0.63730476 0.6370381  0.63717143 0.63702857 0.637\n",
      " 0.63747619 0.63640952 0.63744762 0.63592381 0.63714286 0.6371619\n",
      " 0.63601905 0.63724762 0.63707619 0.63786667 0.63724762 0.6370381\n",
      " 0.62464762 0.62680952 0.62738095 0.62826667 0.62648571 0.62708571\n",
      " 0.62486667 0.6281619  0.62808571 0.6253619  0.62545714 0.62837143\n",
      " 0.62555238 0.62719048 0.6266381  0.62582857 0.62568571 0.62775238\n",
      " 0.63247619 0.6334381  0.63384762 0.63268571 0.6334381  0.63377143\n",
      " 0.63164762 0.63394286 0.63399048 0.63327619 0.6338     0.63378095\n",
      " 0.63308571 0.63387619 0.63372381 0.63451429 0.63386667 0.63406667\n",
      " 0.63842857 0.63892381 0.63879048 0.63845714 0.63800952 0.63849524\n",
      " 0.63929524 0.63814286 0.63886667 0.63781905 0.63874286 0.63884762\n",
      " 0.63749524 0.63831429 0.63866667 0.63862857 0.6384     0.6392\n",
      " 0.62339048 0.62780952 0.62779048 0.62629524 0.6249619  0.62758095\n",
      " 0.62714286 0.62721905 0.62698095 0.62694286 0.62802857 0.62794286\n",
      " 0.62331429 0.62521905 0.62739048 0.62482857 0.62641905 0.62789524\n",
      " 0.63417143 0.63413333 0.63375238 0.63254286 0.63326667 0.63397143\n",
      " 0.63280952 0.63482857 0.63388571 0.63217143 0.63368571 0.63393333\n",
      " 0.63293333 0.63350476 0.63404762 0.63518095 0.63354286 0.63392381\n",
      " 0.63925714 0.63855238 0.6387619  0.63717143 0.63869524 0.63897143\n",
      " 0.63695238 0.63865714 0.63895238 0.6366381  0.6378     0.63867619\n",
      " 0.63824762 0.63893333 0.63870476 0.63807619 0.6383619  0.63906667\n",
      " 0.62392381 0.62839048 0.62715238 0.62410476 0.62810476 0.62755238\n",
      " 0.6244381  0.6262381  0.62730476 0.62338095 0.62507619 0.62691429\n",
      " 0.6238     0.62714286 0.62765714 0.62577143 0.62553333 0.628\n",
      " 0.63346667 0.63349524 0.63370476 0.63422857 0.63434286 0.63386667\n",
      " 0.63304762 0.63370476 0.63364762 0.63152381 0.63340952 0.63402857\n",
      " 0.63365714 0.63468571 0.6341619  0.63361905 0.63487619 0.63370476\n",
      " 0.63853333 0.63852381 0.63855238 0.63940952 0.63813333 0.63877143\n",
      " 0.6376381  0.63853333 0.63879048 0.63842857 0.63871429 0.63859048\n",
      " 0.63795238 0.63881905 0.63884762 0.63869524 0.63871429 0.63907619\n",
      " 0.62735238 0.62859048 0.62762857 0.62807619 0.62640952 0.62784762\n",
      " 0.62425714 0.62747619 0.62650476 0.6272     0.62632381 0.62809524\n",
      " 0.62428571 0.62679048 0.62751429 0.62359048 0.62700952 0.62680952\n",
      " 0.63135238 0.63372381 0.6341619  0.63470476 0.63438095 0.63392381\n",
      " 0.63233333 0.63354286 0.63374286 0.63338095 0.63414286 0.63374286\n",
      " 0.63211429 0.63448571 0.63370476 0.63366667 0.63311429 0.63398095\n",
      " 0.63980952 0.63845714 0.63886667 0.637      0.63873333 0.63894286\n",
      " 0.6382     0.63869524 0.6388381  0.63691429 0.63794286 0.63907619\n",
      " 0.63920952 0.63838095 0.63840952 0.63745714 0.6381619  0.6389619\n",
      " 0.62792381 0.62733333 0.62647619 0.62500952 0.62640952 0.62784762\n",
      " 0.62404762 0.62727619 0.62741905 0.62440952 0.6286     0.62759048\n",
      " 0.6252381  0.62637143 0.62768571 0.62721905 0.62771429 0.6272\n",
      " 0.63232381 0.63392381 0.63391429 0.63335238 0.63385714 0.63395238\n",
      " 0.63274286 0.63400952 0.63388571 0.63257143 0.63433333 0.63400952\n",
      " 0.63268571 0.63454286 0.63360952 0.63359048 0.63385714 0.63385714\n",
      " 0.63729524 0.6382     0.63882857 0.63877143 0.6388     0.63885714\n",
      " 0.63802857 0.63828571 0.63862857 0.63744762 0.63927619 0.63899048\n",
      " 0.63790476 0.6392     0.63902857 0.63810476 0.63886667 0.63908571]\n",
      "  warnings.warn(\n"
     ]
    }
   ],
   "source": [
    "pipe = Pipeline([(\"classifier\", RandomForestClassifier())])\n",
    "# Create dictionary with candidate learning algorithms and their hyperparameters\n",
    "grid_param = [\n",
    "                {\"classifier\": [LogisticRegression()],\n",
    "                 \"classifier__penalty\": ['l2','l1'],\n",
    "                 \"classifier__C\": np.logspace(0, 4, 10)\n",
    "                 },\n",
    "                {\"classifier\": [LogisticRegression()],\n",
    "                 \"classifier__penalty\": ['l2'],\n",
    "                 \"classifier__C\": np.logspace(0, 4, 10),\n",
    "                 \"classifier__solver\":['newton-cg','saga','sag','liblinear'] ##This solvers don't allow L1 penalty\n",
    "                 },\n",
    "                {\"classifier\": [RandomForestClassifier()],\n",
    "                 \"classifier__n_estimators\": [10, 100, 1000],\n",
    "                 \"classifier__max_depth\":[5,8,15,25,30,None],\n",
    "                 \"classifier__min_samples_leaf\":[1,2,5,10,15,100],\n",
    "                 \"classifier__max_leaf_nodes\": [2, 5,10]}]\n",
    "# create a gridsearch of the pipeline, the fit the best model\n",
    "gridsearch = GridSearchCV(pipe, grid_param, cv=5, verbose=0,n_jobs=-1) # Fit grid search\n",
    "best_model = gridsearch.fit(xbefe,y)"
   ]
  },
  {
   "cell_type": "code",
   "execution_count": 151,
   "id": "f900bfdd",
   "metadata": {},
   "outputs": [
    {
     "name": "stdout",
     "output_type": "stream",
     "text": [
      "Pipeline(steps=[('classifier',\n",
      "                 RandomForestClassifier(max_depth=30, max_leaf_nodes=10,\n",
      "                                        n_estimators=10))])\n"
     ]
    }
   ],
   "source": [
    "print(best_model.best_estimator_)"
   ]
  },
  {
   "cell_type": "code",
   "execution_count": 154,
   "id": "68dab9e7",
   "metadata": {},
   "outputs": [],
   "source": [
    "rf=RandomForestClassifier(max_depth=32, max_leaf_nodes=7,\n",
    "                                        n_estimators=6)"
   ]
  },
  {
   "cell_type": "code",
   "execution_count": 156,
   "id": "c2e0d5d8",
   "metadata": {},
   "outputs": [],
   "source": [
    "rf=RandomForestClassifier()"
   ]
  },
  {
   "cell_type": "code",
   "execution_count": 157,
   "id": "c21b2676",
   "metadata": {},
   "outputs": [
    {
     "name": "stdout",
     "output_type": "stream",
     "text": [
      "0.8990095238095238\n",
      "              precision    recall  f1-score   support\n",
      "\n",
      "           0       0.76      0.96      0.85     31598\n",
      "           1       0.98      0.87      0.92     73402\n",
      "\n",
      "    accuracy                           0.90    105000\n",
      "   macro avg       0.87      0.92      0.89    105000\n",
      "weighted avg       0.92      0.90      0.90    105000\n",
      "\n"
     ]
    }
   ],
   "source": [
    "rf.fit(xbefe,y)\n",
    "ypred=rf.predict(xbefe)\n",
    "print(accuracy_score(ypred,y))\n",
    "print(classification_report(ypred,y))"
   ]
  },
  {
   "cell_type": "code",
   "execution_count": 159,
   "id": "360289f5",
   "metadata": {},
   "outputs": [],
   "source": [
    "scaled_dt=pd.DataFrame(scaled_df)\n",
    "scaled_dt.to_csv('scaled_df.csv')"
   ]
  },
  {
   "cell_type": "code",
   "execution_count": 160,
   "id": "bcf220b2",
   "metadata": {},
   "outputs": [],
   "source": [
    "scaled_dtt=pd.DataFrame(scaled_dft)\n",
    "scaled_dtt.to_csv('scaled_dft.csv')"
   ]
  },
  {
   "cell_type": "code",
   "execution_count": 161,
   "id": "5ec46106",
   "metadata": {},
   "outputs": [],
   "source": [
    "from sklearn.decomposition import PCA\n",
    "pc=PCA(n_components=8)"
   ]
  },
  {
   "cell_type": "code",
   "execution_count": 163,
   "id": "b66a7408",
   "metadata": {},
   "outputs": [],
   "source": [
    "x=scaled_df\n",
    "y=df['income']"
   ]
  },
  {
   "cell_type": "code",
   "execution_count": 165,
   "id": "7e9b53bd",
   "metadata": {},
   "outputs": [
    {
     "data": {
      "text/html": [
       "<div>\n",
       "<style scoped>\n",
       "    .dataframe tbody tr th:only-of-type {\n",
       "        vertical-align: middle;\n",
       "    }\n",
       "\n",
       "    .dataframe tbody tr th {\n",
       "        vertical-align: top;\n",
       "    }\n",
       "\n",
       "    .dataframe thead th {\n",
       "        text-align: right;\n",
       "    }\n",
       "</style>\n",
       "<table border=\"1\" class=\"dataframe\">\n",
       "  <thead>\n",
       "    <tr style=\"text-align: right;\">\n",
       "      <th></th>\n",
       "      <th>own_self_emp</th>\n",
       "      <th>veteran benefits</th>\n",
       "      <th>race</th>\n",
       "      <th>father_country</th>\n",
       "      <th>educ</th>\n",
       "      <th>house_stat</th>\n",
       "      <th>major_ind_code</th>\n",
       "      <th>self_country</th>\n",
       "      <th>age</th>\n",
       "      <th>mother_country</th>\n",
       "      <th>...</th>\n",
       "      <th>gains</th>\n",
       "      <th>dividends</th>\n",
       "      <th>marriage_status</th>\n",
       "      <th>losses</th>\n",
       "      <th>employer_of</th>\n",
       "      <th>weeks_worked</th>\n",
       "      <th>hourly_wage</th>\n",
       "      <th>citizenship</th>\n",
       "      <th>fed_liability</th>\n",
       "      <th>full_partime_job</th>\n",
       "    </tr>\n",
       "  </thead>\n",
       "  <tbody>\n",
       "    <tr>\n",
       "      <th>0</th>\n",
       "      <td>0</td>\n",
       "      <td>2</td>\n",
       "      <td>88078</td>\n",
       "      <td>83720</td>\n",
       "      <td>11.0</td>\n",
       "      <td>28081.0</td>\n",
       "      <td>3705</td>\n",
       "      <td>93022</td>\n",
       "      <td>32.0</td>\n",
       "      <td>84324</td>\n",
       "      <td>...</td>\n",
       "      <td>0.0</td>\n",
       "      <td>0.0</td>\n",
       "      <td>44230</td>\n",
       "      <td>0.0</td>\n",
       "      <td>6</td>\n",
       "      <td>47</td>\n",
       "      <td>0.0</td>\n",
       "      <td>93024</td>\n",
       "      <td>35315</td>\n",
       "      <td>21083.0</td>\n",
       "    </tr>\n",
       "    <tr>\n",
       "      <th>1</th>\n",
       "      <td>0</td>\n",
       "      <td>2</td>\n",
       "      <td>88078</td>\n",
       "      <td>83720</td>\n",
       "      <td>12.0</td>\n",
       "      <td>11728.0</td>\n",
       "      <td>2484</td>\n",
       "      <td>93022</td>\n",
       "      <td>51.0</td>\n",
       "      <td>84324</td>\n",
       "      <td>...</td>\n",
       "      <td>0.0</td>\n",
       "      <td>120.0</td>\n",
       "      <td>45521</td>\n",
       "      <td>0.0</td>\n",
       "      <td>6</td>\n",
       "      <td>47</td>\n",
       "      <td>0.0</td>\n",
       "      <td>93024</td>\n",
       "      <td>19729</td>\n",
       "      <td>64168.0</td>\n",
       "    </tr>\n",
       "    <tr>\n",
       "      <th>2</th>\n",
       "      <td>0</td>\n",
       "      <td>2</td>\n",
       "      <td>88078</td>\n",
       "      <td>83720</td>\n",
       "      <td>4.0</td>\n",
       "      <td>108.0</td>\n",
       "      <td>53055</td>\n",
       "      <td>93022</td>\n",
       "      <td>70.0</td>\n",
       "      <td>84324</td>\n",
       "      <td>...</td>\n",
       "      <td>0.0</td>\n",
       "      <td>0.0</td>\n",
       "      <td>5510</td>\n",
       "      <td>0.0</td>\n",
       "      <td>0</td>\n",
       "      <td>0</td>\n",
       "      <td>0.0</td>\n",
       "      <td>93024</td>\n",
       "      <td>39588</td>\n",
       "      <td>64168.0</td>\n",
       "    </tr>\n",
       "    <tr>\n",
       "      <th>3</th>\n",
       "      <td>2</td>\n",
       "      <td>2</td>\n",
       "      <td>88078</td>\n",
       "      <td>83720</td>\n",
       "      <td>9.0</td>\n",
       "      <td>3224.0</td>\n",
       "      <td>3705</td>\n",
       "      <td>93022</td>\n",
       "      <td>25.0</td>\n",
       "      <td>84324</td>\n",
       "      <td>...</td>\n",
       "      <td>0.0</td>\n",
       "      <td>0.0</td>\n",
       "      <td>45521</td>\n",
       "      <td>0.0</td>\n",
       "      <td>2</td>\n",
       "      <td>47</td>\n",
       "      <td>0.0</td>\n",
       "      <td>93024</td>\n",
       "      <td>19729</td>\n",
       "      <td>64168.0</td>\n",
       "    </tr>\n",
       "    <tr>\n",
       "      <th>4</th>\n",
       "      <td>0</td>\n",
       "      <td>2</td>\n",
       "      <td>88078</td>\n",
       "      <td>113</td>\n",
       "      <td>16.0</td>\n",
       "      <td>28081.0</td>\n",
       "      <td>2416</td>\n",
       "      <td>77</td>\n",
       "      <td>65.0</td>\n",
       "      <td>96</td>\n",
       "      <td>...</td>\n",
       "      <td>0.0</td>\n",
       "      <td>0.0</td>\n",
       "      <td>5510</td>\n",
       "      <td>0.0</td>\n",
       "      <td>6</td>\n",
       "      <td>47</td>\n",
       "      <td>0.0</td>\n",
       "      <td>3095</td>\n",
       "      <td>19729</td>\n",
       "      <td>64168.0</td>\n",
       "    </tr>\n",
       "  </tbody>\n",
       "</table>\n",
       "<p>5 rows × 23 columns</p>\n",
       "</div>"
      ],
      "text/plain": [
       "   own_self_emp  veteran benefits   race  father_country  educ  house_stat  \\\n",
       "0             0                 2  88078           83720  11.0     28081.0   \n",
       "1             0                 2  88078           83720  12.0     11728.0   \n",
       "2             0                 2  88078           83720   4.0       108.0   \n",
       "3             2                 2  88078           83720   9.0      3224.0   \n",
       "4             0                 2  88078             113  16.0     28081.0   \n",
       "\n",
       "   major_ind_code  self_country   age  mother_country  ...  gains  dividends  \\\n",
       "0            3705         93022  32.0           84324  ...    0.0        0.0   \n",
       "1            2484         93022  51.0           84324  ...    0.0      120.0   \n",
       "2           53055         93022  70.0           84324  ...    0.0        0.0   \n",
       "3            3705         93022  25.0           84324  ...    0.0        0.0   \n",
       "4            2416            77  65.0              96  ...    0.0        0.0   \n",
       "\n",
       "   marriage_status  losses  employer_of  weeks_worked  hourly_wage  \\\n",
       "0            44230     0.0            6            47          0.0   \n",
       "1            45521     0.0            6            47          0.0   \n",
       "2             5510     0.0            0             0          0.0   \n",
       "3            45521     0.0            2            47          0.0   \n",
       "4             5510     0.0            6            47          0.0   \n",
       "\n",
       "   citizenship  fed_liability  full_partime_job  \n",
       "0        93024          35315           21083.0  \n",
       "1        93024          19729           64168.0  \n",
       "2        93024          39588           64168.0  \n",
       "3        93024          19729           64168.0  \n",
       "4         3095          19729           64168.0  \n",
       "\n",
       "[5 rows x 23 columns]"
      ]
     },
     "execution_count": 165,
     "metadata": {},
     "output_type": "execute_result"
    }
   ],
   "source": [
    "xt.head()"
   ]
  },
  {
   "cell_type": "code",
   "execution_count": 164,
   "id": "50e7711f",
   "metadata": {},
   "outputs": [
    {
     "data": {
      "text/html": [
       "<div>\n",
       "<style scoped>\n",
       "    .dataframe tbody tr th:only-of-type {\n",
       "        vertical-align: middle;\n",
       "    }\n",
       "\n",
       "    .dataframe tbody tr th {\n",
       "        vertical-align: top;\n",
       "    }\n",
       "\n",
       "    .dataframe thead th {\n",
       "        text-align: right;\n",
       "    }\n",
       "</style>\n",
       "<table border=\"1\" class=\"dataframe\">\n",
       "  <thead>\n",
       "    <tr style=\"text-align: right;\">\n",
       "      <th></th>\n",
       "      <th>1</th>\n",
       "      <th>2</th>\n",
       "      <th>3</th>\n",
       "      <th>4</th>\n",
       "      <th>5</th>\n",
       "      <th>6</th>\n",
       "      <th>7</th>\n",
       "      <th>8</th>\n",
       "    </tr>\n",
       "  </thead>\n",
       "  <tbody>\n",
       "    <tr>\n",
       "      <th>0</th>\n",
       "      <td>0.641140</td>\n",
       "      <td>-0.388118</td>\n",
       "      <td>-0.615552</td>\n",
       "      <td>0.110333</td>\n",
       "      <td>-0.309614</td>\n",
       "      <td>-0.119393</td>\n",
       "      <td>0.167396</td>\n",
       "      <td>-0.314128</td>\n",
       "    </tr>\n",
       "    <tr>\n",
       "      <th>1</th>\n",
       "      <td>-1.194209</td>\n",
       "      <td>0.357713</td>\n",
       "      <td>-0.762247</td>\n",
       "      <td>-0.144182</td>\n",
       "      <td>-0.045037</td>\n",
       "      <td>-0.436716</td>\n",
       "      <td>-0.130610</td>\n",
       "      <td>0.491469</td>\n",
       "    </tr>\n",
       "    <tr>\n",
       "      <th>2</th>\n",
       "      <td>1.021508</td>\n",
       "      <td>-0.306437</td>\n",
       "      <td>-0.163658</td>\n",
       "      <td>-0.080441</td>\n",
       "      <td>0.884010</td>\n",
       "      <td>-0.404210</td>\n",
       "      <td>0.623486</td>\n",
       "      <td>0.213678</td>\n",
       "    </tr>\n",
       "    <tr>\n",
       "      <th>3</th>\n",
       "      <td>0.595730</td>\n",
       "      <td>-0.302108</td>\n",
       "      <td>-0.666638</td>\n",
       "      <td>-0.086495</td>\n",
       "      <td>-0.143666</td>\n",
       "      <td>0.756630</td>\n",
       "      <td>0.462016</td>\n",
       "      <td>-0.096063</td>\n",
       "    </tr>\n",
       "    <tr>\n",
       "      <th>4</th>\n",
       "      <td>0.802719</td>\n",
       "      <td>-0.323535</td>\n",
       "      <td>0.440277</td>\n",
       "      <td>-0.061987</td>\n",
       "      <td>-0.578489</td>\n",
       "      <td>-0.213220</td>\n",
       "      <td>0.640079</td>\n",
       "      <td>0.276364</td>\n",
       "    </tr>\n",
       "  </tbody>\n",
       "</table>\n",
       "</div>"
      ],
      "text/plain": [
       "          1         2         3         4         5         6         7  \\\n",
       "0  0.641140 -0.388118 -0.615552  0.110333 -0.309614 -0.119393  0.167396   \n",
       "1 -1.194209  0.357713 -0.762247 -0.144182 -0.045037 -0.436716 -0.130610   \n",
       "2  1.021508 -0.306437 -0.163658 -0.080441  0.884010 -0.404210  0.623486   \n",
       "3  0.595730 -0.302108 -0.666638 -0.086495 -0.143666  0.756630  0.462016   \n",
       "4  0.802719 -0.323535  0.440277 -0.061987 -0.578489 -0.213220  0.640079   \n",
       "\n",
       "          8  \n",
       "0 -0.314128  \n",
       "1  0.491469  \n",
       "2  0.213678  \n",
       "3 -0.096063  \n",
       "4  0.276364  "
      ]
     },
     "execution_count": 164,
     "metadata": {},
     "output_type": "execute_result"
    }
   ],
   "source": [
    "dfp=pc.fit_transform(x)\n",
    "xpc=pd.DataFrame(dfp,columns=['1','2','3','4','5','6','7','8'])\n",
    "xpc.head()"
   ]
  },
  {
   "cell_type": "code",
   "execution_count": 169,
   "id": "5d835cc7",
   "metadata": {
    "scrolled": true
   },
   "outputs": [
    {
     "data": {
      "text/html": [
       "<div>\n",
       "<style scoped>\n",
       "    .dataframe tbody tr th:only-of-type {\n",
       "        vertical-align: middle;\n",
       "    }\n",
       "\n",
       "    .dataframe tbody tr th {\n",
       "        vertical-align: top;\n",
       "    }\n",
       "\n",
       "    .dataframe thead th {\n",
       "        text-align: right;\n",
       "    }\n",
       "</style>\n",
       "<table border=\"1\" class=\"dataframe\">\n",
       "  <thead>\n",
       "    <tr style=\"text-align: right;\">\n",
       "      <th></th>\n",
       "      <th>1</th>\n",
       "      <th>2</th>\n",
       "      <th>3</th>\n",
       "      <th>4</th>\n",
       "      <th>5</th>\n",
       "      <th>6</th>\n",
       "      <th>7</th>\n",
       "      <th>8</th>\n",
       "    </tr>\n",
       "  </thead>\n",
       "  <tbody>\n",
       "    <tr>\n",
       "      <th>0</th>\n",
       "      <td>1.005661</td>\n",
       "      <td>-0.383383</td>\n",
       "      <td>-0.594069</td>\n",
       "      <td>0.071181</td>\n",
       "      <td>-0.250360</td>\n",
       "      <td>0.125830</td>\n",
       "      <td>-0.339176</td>\n",
       "      <td>0.077826</td>\n",
       "    </tr>\n",
       "    <tr>\n",
       "      <th>1</th>\n",
       "      <td>0.997704</td>\n",
       "      <td>-0.329294</td>\n",
       "      <td>0.353681</td>\n",
       "      <td>-0.444899</td>\n",
       "      <td>-0.176497</td>\n",
       "      <td>-0.192101</td>\n",
       "      <td>0.303352</td>\n",
       "      <td>-0.125460</td>\n",
       "    </tr>\n",
       "    <tr>\n",
       "      <th>2</th>\n",
       "      <td>-0.550872</td>\n",
       "      <td>-0.206212</td>\n",
       "      <td>0.986381</td>\n",
       "      <td>0.195744</td>\n",
       "      <td>0.775926</td>\n",
       "      <td>-0.364070</td>\n",
       "      <td>0.416320</td>\n",
       "      <td>-0.054803</td>\n",
       "    </tr>\n",
       "    <tr>\n",
       "      <th>3</th>\n",
       "      <td>0.753976</td>\n",
       "      <td>-0.356303</td>\n",
       "      <td>-0.355062</td>\n",
       "      <td>-0.303112</td>\n",
       "      <td>0.957206</td>\n",
       "      <td>-0.357341</td>\n",
       "      <td>0.194543</td>\n",
       "      <td>-0.174749</td>\n",
       "    </tr>\n",
       "    <tr>\n",
       "      <th>4</th>\n",
       "      <td>1.107599</td>\n",
       "      <td>1.527975</td>\n",
       "      <td>0.307792</td>\n",
       "      <td>-0.145344</td>\n",
       "      <td>-0.704399</td>\n",
       "      <td>-0.158774</td>\n",
       "      <td>0.735482</td>\n",
       "      <td>-0.117141</td>\n",
       "    </tr>\n",
       "  </tbody>\n",
       "</table>\n",
       "</div>"
      ],
      "text/plain": [
       "          1         2         3         4         5         6         7  \\\n",
       "0  1.005661 -0.383383 -0.594069  0.071181 -0.250360  0.125830 -0.339176   \n",
       "1  0.997704 -0.329294  0.353681 -0.444899 -0.176497 -0.192101  0.303352   \n",
       "2 -0.550872 -0.206212  0.986381  0.195744  0.775926 -0.364070  0.416320   \n",
       "3  0.753976 -0.356303 -0.355062 -0.303112  0.957206 -0.357341  0.194543   \n",
       "4  1.107599  1.527975  0.307792 -0.145344 -0.704399 -0.158774  0.735482   \n",
       "\n",
       "          8  \n",
       "0  0.077826  \n",
       "1 -0.125460  \n",
       "2 -0.054803  \n",
       "3 -0.174749  \n",
       "4 -0.117141  "
      ]
     },
     "execution_count": 169,
     "metadata": {},
     "output_type": "execute_result"
    }
   ],
   "source": [
    "dtp=pc.fit_transform(scaled_dft)\n",
    "xpct=pd.DataFrame(dtp,columns=['1','2','3','4','5','6','7','8'])\n",
    "xpct.head()"
   ]
  },
  {
   "cell_type": "code",
   "execution_count": 171,
   "id": "1107ae92",
   "metadata": {},
   "outputs": [
    {
     "data": {
      "text/plain": [
       "0    0\n",
       "1    0\n",
       "2    0\n",
       "3    0\n",
       "4    0\n",
       "Name: income, dtype: int64"
      ]
     },
     "execution_count": 171,
     "metadata": {},
     "output_type": "execute_result"
    }
   ],
   "source": [
    "y."
   ]
  },
  {
   "cell_type": "code",
   "execution_count": 172,
   "id": "f5c26379",
   "metadata": {},
   "outputs": [
    {
     "name": "stdout",
     "output_type": "stream",
     "text": [
      "0.6216380952380952\n",
      "              precision    recall  f1-score   support\n",
      "\n",
      "           0       0.00      0.00      0.00         0\n",
      "           1       1.00      0.62      0.77    105000\n",
      "\n",
      "    accuracy                           0.62    105000\n",
      "   macro avg       0.50      0.31      0.38    105000\n",
      "weighted avg       1.00      0.62      0.77    105000\n",
      "\n"
     ]
    },
    {
     "name": "stderr",
     "output_type": "stream",
     "text": [
      "C:\\Users\\thoma\\anaconda3\\lib\\site-packages\\sklearn\\metrics\\_classification.py:1327: UndefinedMetricWarning: Recall and F-score are ill-defined and being set to 0.0 in labels with no true samples. Use `zero_division` parameter to control this behavior.\n",
      "  _warn_prf(average, modifier, msg_start, len(result))\n",
      "C:\\Users\\thoma\\anaconda3\\lib\\site-packages\\sklearn\\metrics\\_classification.py:1327: UndefinedMetricWarning: Recall and F-score are ill-defined and being set to 0.0 in labels with no true samples. Use `zero_division` parameter to control this behavior.\n",
      "  _warn_prf(average, modifier, msg_start, len(result))\n",
      "C:\\Users\\thoma\\anaconda3\\lib\\site-packages\\sklearn\\metrics\\_classification.py:1327: UndefinedMetricWarning: Recall and F-score are ill-defined and being set to 0.0 in labels with no true samples. Use `zero_division` parameter to control this behavior.\n",
      "  _warn_prf(average, modifier, msg_start, len(result))\n"
     ]
    }
   ],
   "source": [
    "lr=LogisticRegression()\n",
    "lr.fit(xpc,y)\n",
    "ypred=lr.predict(xpc)\n",
    "print(accuracy_score(ypred,y))\n",
    "print(classification_report(ypred,y))"
   ]
  },
  {
   "cell_type": "code",
   "execution_count": 173,
   "id": "5d97e8ba",
   "metadata": {},
   "outputs": [
    {
     "name": "stdout",
     "output_type": "stream",
     "text": [
      "0.9099809523809523\n",
      "              precision    recall  f1-score   support\n",
      "\n",
      "           0       0.79      0.97      0.87     32306\n",
      "           1       0.98      0.88      0.93     72694\n",
      "\n",
      "    accuracy                           0.91    105000\n",
      "   macro avg       0.89      0.93      0.90    105000\n",
      "weighted avg       0.92      0.91      0.91    105000\n",
      "\n"
     ]
    }
   ],
   "source": [
    "rf=RandomForestClassifier()\n",
    "rf.fit(xpc,y)\n",
    "ypred=rf.predict(xpc)\n",
    "print(accuracy_score(ypred,y))\n",
    "print(classification_report(ypred,y))"
   ]
  },
  {
   "cell_type": "code",
   "execution_count": 174,
   "id": "5c2cd16f",
   "metadata": {},
   "outputs": [],
   "source": [
    "ypred1=rf.predict(xpct)"
   ]
  },
  {
   "cell_type": "code",
   "execution_count": 175,
   "id": "8988451b",
   "metadata": {},
   "outputs": [],
   "source": [
    "ypp=pd.DataFrame(ypred1)\n",
    "ypp.to_csv('7yp.csv')"
   ]
  },
  {
   "cell_type": "code",
   "execution_count": 177,
   "id": "d21fa3a3",
   "metadata": {},
   "outputs": [],
   "source": [
    "import tensorflow as tf\n",
    "from tensorflow import keras\n",
    "from tensorflow.keras import layers,Sequential"
   ]
  },
  {
   "cell_type": "code",
   "execution_count": 197,
   "id": "39044d9a",
   "metadata": {},
   "outputs": [],
   "source": [
    "model=tf.keras.Sequential([\n",
    "    layers.Dense(18,input_shape=(18,),activation='relu'),\n",
    "    layers.Dense(100,activation='relu'),\n",
    "    layers.Dense(1,activation='sigmoid'),\n",
    "])\n",
    "\n",
    "model.compile(optimizer='SGD',loss='binary_crossentropy',metrics=['accuracy'])\n"
   ]
  },
  {
   "cell_type": "code",
   "execution_count": 198,
   "id": "f7ef7f59",
   "metadata": {},
   "outputs": [
    {
     "name": "stdout",
     "output_type": "stream",
     "text": [
      "Epoch 1/20\n",
      "3282/3282 [==============================] - 10s 3ms/step - loss: 0.6618 - accuracy: 0.6193\n",
      "Epoch 2/20\n",
      "3282/3282 [==============================] - 7s 2ms/step - loss: 0.6588 - accuracy: 0.6217\n",
      "Epoch 3/20\n",
      "3282/3282 [==============================] - 8s 2ms/step - loss: 0.6579 - accuracy: 0.6224\n",
      "Epoch 4/20\n",
      "3282/3282 [==============================] - 7s 2ms/step - loss: 0.6573 - accuracy: 0.6239\n",
      "Epoch 5/20\n",
      "3282/3282 [==============================] - 7s 2ms/step - loss: 0.6567 - accuracy: 0.6257\n",
      "Epoch 6/20\n",
      "3282/3282 [==============================] - 8s 2ms/step - loss: 0.6561 - accuracy: 0.6281\n",
      "Epoch 7/20\n",
      "3282/3282 [==============================] - 12s 4ms/step - loss: 0.6556 - accuracy: 0.6292\n",
      "Epoch 8/20\n",
      "3282/3282 [==============================] - 9s 3ms/step - loss: 0.6550 - accuracy: 0.6312\n",
      "Epoch 9/20\n",
      "3282/3282 [==============================] - 7s 2ms/step - loss: 0.6546 - accuracy: 0.6324\n",
      "Epoch 10/20\n",
      "3282/3282 [==============================] - 6s 2ms/step - loss: 0.6541 - accuracy: 0.6325\n",
      "Epoch 11/20\n",
      "3282/3282 [==============================] - 7s 2ms/step - loss: 0.6539 - accuracy: 0.6333\n",
      "Epoch 12/20\n",
      "3282/3282 [==============================] - 9s 3ms/step - loss: 0.6535 - accuracy: 0.6332\n",
      "Epoch 13/20\n",
      "3282/3282 [==============================] - 9s 3ms/step - loss: 0.6532 - accuracy: 0.6335\n",
      "Epoch 14/20\n",
      "3282/3282 [==============================] - 9s 3ms/step - loss: 0.6529 - accuracy: 0.6341\n",
      "Epoch 15/20\n",
      "3282/3282 [==============================] - 8s 2ms/step - loss: 0.6527 - accuracy: 0.6345\n",
      "Epoch 16/20\n",
      "3282/3282 [==============================] - 7s 2ms/step - loss: 0.6525 - accuracy: 0.6345\n",
      "Epoch 17/20\n",
      "3282/3282 [==============================] - 6s 2ms/step - loss: 0.6524 - accuracy: 0.6346\n",
      "Epoch 18/20\n",
      "3282/3282 [==============================] - 8s 3ms/step - loss: 0.6520 - accuracy: 0.6352\n",
      "Epoch 19/20\n",
      "3282/3282 [==============================] - 8s 3ms/step - loss: 0.6520 - accuracy: 0.6340\n",
      "Epoch 20/20\n",
      "3282/3282 [==============================] - 8s 2ms/step - loss: 0.6519 - accuracy: 0.6350\n"
     ]
    },
    {
     "data": {
      "text/plain": [
       "<keras.callbacks.History at 0x2103d0ebbb0>"
      ]
     },
     "execution_count": 198,
     "metadata": {},
     "output_type": "execute_result"
    }
   ],
   "source": [
    "model.fit(xbefe,y,epochs=20)"
   ]
  },
  {
   "cell_type": "code",
   "execution_count": 199,
   "id": "9cb2d6f3",
   "metadata": {},
   "outputs": [
    {
     "name": "stdout",
     "output_type": "stream",
     "text": [
      "1313/1313 [==============================] - 2s 2ms/step\n"
     ]
    }
   ],
   "source": [
    "ypred=model.predict(xtbefe)"
   ]
  },
  {
   "cell_type": "code",
   "execution_count": 200,
   "id": "ee552845",
   "metadata": {},
   "outputs": [],
   "source": [
    "rounded=[np.round(x[0]) for x in ypred]"
   ]
  }
 ],
 "metadata": {
  "kernelspec": {
   "display_name": "Python 3",
   "language": "python",
   "name": "python3"
  },
  "language_info": {
   "codemirror_mode": {
    "name": "ipython",
    "version": 3
   },
   "file_extension": ".py",
   "mimetype": "text/x-python",
   "name": "python",
   "nbconvert_exporter": "python",
   "pygments_lexer": "ipython3",
   "version": "3.8.8"
  }
 },
 "nbformat": 4,
 "nbformat_minor": 5
}
